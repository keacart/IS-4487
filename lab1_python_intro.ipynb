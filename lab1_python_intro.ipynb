{
 "cells": [
  {
   "cell_type": "markdown",
   "metadata": {},
   "source": [
    "# IS 4487 Lab 1\n",
    "\n",
    "## Outline\n",
    "\n",
    "- Loading installed packages\n",
    "- Inspect data\n",
    "- Explore plot types \n",
    "\n",
    "<a href=\"https://colab.research.google.com/github/Stan-Pugsley/is_4487_base/blob/main/Labs/Scripts/lab1_python_intro.ipynb\" target=\"_parent\"><img src=\"https://colab.research.google.com/assets/colab-badge.svg\" alt=\"Open In Colab\"/></a> "
   ]
  },
  {
   "cell_type": "markdown",
   "metadata": {},
   "source": [
    "##Load Libraries\n",
    "\n",
    "In this class we will be using \n",
    "- Pandas\n",
    "- Scikitlearn\n",
    "- Matplotlib\n",
    "\n",
    "We can pull sample data from \n",
    "- statsmodels.api"
   ]
  },
  {
   "cell_type": "code",
   "execution_count": null,
   "metadata": {},
   "outputs": [],
   "source": [
    "import pandas as pd\n",
    "import matplotlib as mpl\n",
    "import sklearn as sl\n",
    "import statsmodels.api as sm"
   ]
  },
  {
   "cell_type": "markdown",
   "metadata": {},
   "source": [
    "## Getting data into Pandas\n",
    "\n",
    "In this case we will load data from the statsmodels.org library\n",
    "\n",
    "MTCARS is a traditional dataset used for learning.\n",
    "\n"
   ]
  },
  {
   "cell_type": "code",
   "execution_count": null,
   "metadata": {},
   "outputs": [],
   "source": [
    "mtcars = sm.datasets.get_rdataset(\"mtcars\", \"datasets\", cache=True).data\n",
    "df = pd.DataFrame(mtcars)\n",
    "print(df)"
   ]
  },
  {
   "cell_type": "markdown",
   "metadata": {},
   "source": [
    "## Preview Data\n",
    "\n",
    "Use the following data dictionary to understand the attributes available\n",
    "\n",
    "|Attribute | Description |\n",
    "|---------|--------------|\n",
    "|\tmpg\t|Miles/(US) gallon|\n",
    "|\tcyl|\tNumber of cylinders|\n",
    "|\tdisp|\tDisplacement (cu.in.)|\n",
    "|hp|\tGross horsepower|\n",
    "|drat|\tRear axle ratio|\n",
    "|wt|\tWeight (1000 lbs)|\n",
    "|qsec|\t1/4 mile time|\n",
    "|vs|\tEngine (0 = V-shaped, 1 = straight)|\n",
    "|am|\tTransmission (0 = automatic, 1 = manual)|\n",
    "|gear|\tNumber of forward gears|"
   ]
  },
  {
   "cell_type": "code",
   "execution_count": null,
   "metadata": {},
   "outputs": [],
   "source": [
    "#look at the top rows\n",
    "#df.tail(2) \n",
    "df.info()"
   ]
  },
  {
   "cell_type": "code",
   "execution_count": null,
   "metadata": {},
   "outputs": [],
   "source": [
    "#look at last rows\n",
    "df.tail(10) "
   ]
  },
  {
   "cell_type": "code",
   "execution_count": null,
   "metadata": {},
   "outputs": [],
   "source": [
    "#get a summary of the dataset\n",
    "df.describe()"
   ]
  },
  {
   "cell_type": "markdown",
   "metadata": {},
   "source": [
    " \n",
    "# Create basic charts\n",
    "\n",
    "- Line chart\n",
    "- Bar chart\n",
    "- Histogram\n",
    "- Box plot\n",
    "- Scatter plot\n",
    "\n",
    "\n"
   ]
  },
  {
   "cell_type": "code",
   "execution_count": null,
   "metadata": {},
   "outputs": [],
   "source": [
    "#Line chart\n",
    "df['mpg'].plot.line(color='red')"
   ]
  },
  {
   "cell_type": "code",
   "execution_count": null,
   "metadata": {},
   "outputs": [],
   "source": [
    "#Line chart\n",
    "df['mpg'].plot.barh(color='red', xticks=[0,10,20])"
   ]
  },
  {
   "cell_type": "code",
   "execution_count": null,
   "metadata": {},
   "outputs": [],
   "source": [
    "#Histogram\n",
    "df['mpg'].plot.hist(bins=15,title='Miles Per Gallon')"
   ]
  },
  {
   "cell_type": "code",
   "execution_count": null,
   "metadata": {},
   "outputs": [],
   "source": [
    "#Boxplot\n",
    "df['mpg'].plot.box(color ='red', ylabel = 'test', title = 'this is my chart')\n"
   ]
  },
  {
   "cell_type": "code",
   "execution_count": null,
   "metadata": {},
   "outputs": [],
   "source": [
    "#Scatter plot\n",
    "df.plot.scatter(x='mpg',y='hp',c='wt')"
   ]
  },
  {
   "cell_type": "code",
   "execution_count": null,
   "metadata": {},
   "outputs": [],
   "source": [
    "## Your Turn: Create an Additional Chart\n",
    "\n",
    "➡️ Assignment Tasks\n",
    "- Create a pie chart showing the count of cars by transmission type"
   ]
  },
  {
   "cell_type": "code",
   "execution_count": null,
   "metadata": {},
   "outputs": [],
   "source": [
    "#Your code goes here"
   ]
  }
 ],
 "metadata": {
  "language_info": {
   "name": "python"
  }
 },
 "nbformat": 4,
 "nbformat_minor": 2
}
