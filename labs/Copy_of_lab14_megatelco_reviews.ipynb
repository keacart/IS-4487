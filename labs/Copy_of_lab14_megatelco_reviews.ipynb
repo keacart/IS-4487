{
  "cells": [
    {
      "cell_type": "markdown",
      "metadata": {
        "id": "gsE58ctCNFm_"
      },
      "source": [
        "# IS 4487 Lab 14\n",
        "\n",
        "## Outline\n",
        "\n",
        "1. Import customer reviews\n",
        "2. Create prompts for LLM (ChatGPT)\n",
        "3. Summarize Customer Reviews\n",
        "\n",
        "*Important note:*\n",
        "You will use the API key from the Canvas assignment for your work, but you must NOT save it in your public GitHub repository.  It will quickly be found and used, draining my budget!\n",
        "\n",
        "<a href=\"https://colab.research.google.com/github/Stan-Pugsley/is_4487_base/blob/main/Labs/Scripts/lab14_megatelco_reviews.ipynb\" target=\"_parent\"><img src=\"https://colab.research.google.com/assets/colab-badge.svg\" alt=\"Open In Colab\"/></a>\n"
      ]
    },
    {
      "cell_type": "markdown",
      "metadata": {
        "id": "X4DADgcjceSo"
      },
      "source": [
        "## Install and Load Libraries"
      ]
    },
    {
      "cell_type": "code",
      "execution_count": 1,
      "metadata": {
        "id": "mUapi621OqPA",
        "colab": {
          "base_uri": "https://localhost:8080/"
        },
        "outputId": "62e73266-270b-4eb5-bcb8-82fdef3a1da6"
      },
      "outputs": [
        {
          "output_type": "stream",
          "name": "stdout",
          "text": [
            "Collecting openai\n",
            "  Downloading openai-1.23.2-py3-none-any.whl (311 kB)\n",
            "\u001b[2K     \u001b[90m━━━━━━━━━━━━━━━━━━━━━━━━━━━━━━━━━━━━━━━━\u001b[0m \u001b[32m311.2/311.2 kB\u001b[0m \u001b[31m2.1 MB/s\u001b[0m eta \u001b[36m0:00:00\u001b[0m\n",
            "\u001b[?25hRequirement already satisfied: anyio<5,>=3.5.0 in /usr/local/lib/python3.10/dist-packages (from openai) (3.7.1)\n",
            "Requirement already satisfied: distro<2,>=1.7.0 in /usr/lib/python3/dist-packages (from openai) (1.7.0)\n",
            "Collecting httpx<1,>=0.23.0 (from openai)\n",
            "  Downloading httpx-0.27.0-py3-none-any.whl (75 kB)\n",
            "\u001b[2K     \u001b[90m━━━━━━━━━━━━━━━━━━━━━━━━━━━━━━━━━━━━━━━━\u001b[0m \u001b[32m75.6/75.6 kB\u001b[0m \u001b[31m2.9 MB/s\u001b[0m eta \u001b[36m0:00:00\u001b[0m\n",
            "\u001b[?25hRequirement already satisfied: pydantic<3,>=1.9.0 in /usr/local/lib/python3.10/dist-packages (from openai) (2.7.0)\n",
            "Requirement already satisfied: sniffio in /usr/local/lib/python3.10/dist-packages (from openai) (1.3.1)\n",
            "Requirement already satisfied: tqdm>4 in /usr/local/lib/python3.10/dist-packages (from openai) (4.66.2)\n",
            "Requirement already satisfied: typing-extensions<5,>=4.7 in /usr/local/lib/python3.10/dist-packages (from openai) (4.11.0)\n",
            "Requirement already satisfied: idna>=2.8 in /usr/local/lib/python3.10/dist-packages (from anyio<5,>=3.5.0->openai) (3.7)\n",
            "Requirement already satisfied: exceptiongroup in /usr/local/lib/python3.10/dist-packages (from anyio<5,>=3.5.0->openai) (1.2.0)\n",
            "Requirement already satisfied: certifi in /usr/local/lib/python3.10/dist-packages (from httpx<1,>=0.23.0->openai) (2024.2.2)\n",
            "Collecting httpcore==1.* (from httpx<1,>=0.23.0->openai)\n",
            "  Downloading httpcore-1.0.5-py3-none-any.whl (77 kB)\n",
            "\u001b[2K     \u001b[90m━━━━━━━━━━━━━━━━━━━━━━━━━━━━━━━━━━━━━━━━\u001b[0m \u001b[32m77.9/77.9 kB\u001b[0m \u001b[31m4.8 MB/s\u001b[0m eta \u001b[36m0:00:00\u001b[0m\n",
            "\u001b[?25hCollecting h11<0.15,>=0.13 (from httpcore==1.*->httpx<1,>=0.23.0->openai)\n",
            "  Downloading h11-0.14.0-py3-none-any.whl (58 kB)\n",
            "\u001b[2K     \u001b[90m━━━━━━━━━━━━━━━━━━━━━━━━━━━━━━━━━━━━━━━━\u001b[0m \u001b[32m58.3/58.3 kB\u001b[0m \u001b[31m2.5 MB/s\u001b[0m eta \u001b[36m0:00:00\u001b[0m\n",
            "\u001b[?25hRequirement already satisfied: annotated-types>=0.4.0 in /usr/local/lib/python3.10/dist-packages (from pydantic<3,>=1.9.0->openai) (0.6.0)\n",
            "Requirement already satisfied: pydantic-core==2.18.1 in /usr/local/lib/python3.10/dist-packages (from pydantic<3,>=1.9.0->openai) (2.18.1)\n",
            "Installing collected packages: h11, httpcore, httpx, openai\n",
            "Successfully installed h11-0.14.0 httpcore-1.0.5 httpx-0.27.0 openai-1.23.2\n"
          ]
        }
      ],
      "source": [
        "pip install openai"
      ]
    },
    {
      "cell_type": "code",
      "execution_count": 2,
      "metadata": {
        "id": "QfiSLm4kMTmm",
        "colab": {
          "base_uri": "https://localhost:8080/"
        },
        "outputId": "dd69ecef-a911-466d-ce6b-febcbbec7ebf"
      },
      "outputs": [
        {
          "output_type": "stream",
          "name": "stdout",
          "text": [
            "Collecting itables\n",
            "  Downloading itables-2.0.0-py3-none-any.whl (215 kB)\n",
            "\u001b[2K     \u001b[90m━━━━━━━━━━━━━━━━━━━━━━━━━━━━━━━━━━━━━━━━\u001b[0m \u001b[32m215.6/215.6 kB\u001b[0m \u001b[31m1.4 MB/s\u001b[0m eta \u001b[36m0:00:00\u001b[0m\n",
            "\u001b[?25hRequirement already satisfied: ipython in /usr/local/lib/python3.10/dist-packages (from itables) (7.34.0)\n",
            "Requirement already satisfied: numpy in /usr/local/lib/python3.10/dist-packages (from itables) (1.25.2)\n",
            "Requirement already satisfied: pandas in /usr/local/lib/python3.10/dist-packages (from itables) (2.0.3)\n",
            "Requirement already satisfied: setuptools>=18.5 in /usr/local/lib/python3.10/dist-packages (from ipython->itables) (67.7.2)\n",
            "Collecting jedi>=0.16 (from ipython->itables)\n",
            "  Downloading jedi-0.19.1-py2.py3-none-any.whl (1.6 MB)\n",
            "\u001b[2K     \u001b[90m━━━━━━━━━━━━━━━━━━━━━━━━━━━━━━━━━━━━━━━━\u001b[0m \u001b[32m1.6/1.6 MB\u001b[0m \u001b[31m12.9 MB/s\u001b[0m eta \u001b[36m0:00:00\u001b[0m\n",
            "\u001b[?25hRequirement already satisfied: decorator in /usr/local/lib/python3.10/dist-packages (from ipython->itables) (4.4.2)\n",
            "Requirement already satisfied: pickleshare in /usr/local/lib/python3.10/dist-packages (from ipython->itables) (0.7.5)\n",
            "Requirement already satisfied: traitlets>=4.2 in /usr/local/lib/python3.10/dist-packages (from ipython->itables) (5.7.1)\n",
            "Requirement already satisfied: prompt-toolkit!=3.0.0,!=3.0.1,<3.1.0,>=2.0.0 in /usr/local/lib/python3.10/dist-packages (from ipython->itables) (3.0.43)\n",
            "Requirement already satisfied: pygments in /usr/local/lib/python3.10/dist-packages (from ipython->itables) (2.16.1)\n",
            "Requirement already satisfied: backcall in /usr/local/lib/python3.10/dist-packages (from ipython->itables) (0.2.0)\n",
            "Requirement already satisfied: matplotlib-inline in /usr/local/lib/python3.10/dist-packages (from ipython->itables) (0.1.7)\n",
            "Requirement already satisfied: pexpect>4.3 in /usr/local/lib/python3.10/dist-packages (from ipython->itables) (4.9.0)\n",
            "Requirement already satisfied: python-dateutil>=2.8.2 in /usr/local/lib/python3.10/dist-packages (from pandas->itables) (2.8.2)\n",
            "Requirement already satisfied: pytz>=2020.1 in /usr/local/lib/python3.10/dist-packages (from pandas->itables) (2023.4)\n",
            "Requirement already satisfied: tzdata>=2022.1 in /usr/local/lib/python3.10/dist-packages (from pandas->itables) (2024.1)\n",
            "Requirement already satisfied: parso<0.9.0,>=0.8.3 in /usr/local/lib/python3.10/dist-packages (from jedi>=0.16->ipython->itables) (0.8.4)\n",
            "Requirement already satisfied: ptyprocess>=0.5 in /usr/local/lib/python3.10/dist-packages (from pexpect>4.3->ipython->itables) (0.7.0)\n",
            "Requirement already satisfied: wcwidth in /usr/local/lib/python3.10/dist-packages (from prompt-toolkit!=3.0.0,!=3.0.1,<3.1.0,>=2.0.0->ipython->itables) (0.2.13)\n",
            "Requirement already satisfied: six>=1.5 in /usr/local/lib/python3.10/dist-packages (from python-dateutil>=2.8.2->pandas->itables) (1.16.0)\n",
            "Installing collected packages: jedi, itables\n",
            "Successfully installed itables-2.0.0 jedi-0.19.1\n"
          ]
        }
      ],
      "source": [
        "pip install itables"
      ]
    },
    {
      "cell_type": "code",
      "execution_count": 3,
      "metadata": {
        "id": "-BiHHJXsG1jC"
      },
      "outputs": [],
      "source": [
        "import os\n",
        "from openai import OpenAI\n",
        "import pandas as pd\n",
        "from itables import show"
      ]
    },
    {
      "cell_type": "markdown",
      "metadata": {
        "id": "ToJgnROKceSu"
      },
      "source": [
        "##Set the API Key Temporarily\n",
        "Remember to remove it before saving to GitHub"
      ]
    },
    {
      "cell_type": "code",
      "execution_count": 9,
      "metadata": {
        "id": "FQIQEoMLN1Bs"
      },
      "outputs": [],
      "source": [
        "\n",
        "client=OpenAI(\n",
        "    api_key = \"sk-proj-nYDzV4rwnHrPgyxQkLjUT3BlbkFJz2CLSvDDhpntTv1yhDSo\"\n",
        ")"
      ]
    },
    {
      "cell_type": "markdown",
      "metadata": {
        "id": "7mgWqztkceSw"
      },
      "source": [
        "##Get Reviews"
      ]
    },
    {
      "cell_type": "code",
      "execution_count": 5,
      "metadata": {
        "id": "YVhlOg01LWq_",
        "colab": {
          "base_uri": "https://localhost:8080/",
          "height": 440
        },
        "outputId": "251169d5-cd5b-4ee4-dd4d-05afd12e7f8e"
      },
      "outputs": [
        {
          "output_type": "display_data",
          "data": {
            "text/plain": [
              "<IPython.core.display.HTML object>"
            ],
            "text/html": [
              "<table id=\"itables_461663c5_3271_4536_b9b4_b4bb7f24c72c\" class=\"display nowrap\" data-quarto-disable-processing=\"true\" style=\"table-layout:auto;width:auto;margin:auto;caption-side:bottom\">\n",
              "<thead>\n",
              "    <tr style=\"text-align: right;\">\n",
              "      \n",
              "      <th>Date</th>\n",
              "      <th>Stars</th>\n",
              "      <th>Review</th>\n",
              "    </tr>\n",
              "  </thead><tbody><tr><td>Loading... (need <a href=https://mwouts.github.io/itables/troubleshooting.html>help</a>?)</td></tr></tbody>\n",
              "\n",
              "</table>\n",
              "<link href=\"https://www.unpkg.com/dt_for_itables@2.0.1/dt_bundle.css\" rel=\"stylesheet\">\n",
              "<script type=\"module\">\n",
              "    import {DataTable, jQuery as $} from 'https://www.unpkg.com/dt_for_itables@2.0.1/dt_bundle.js';\n",
              "\n",
              "    document.querySelectorAll(\"#itables_461663c5_3271_4536_b9b4_b4bb7f24c72c:not(.dataTable)\").forEach(table => {\n",
              "        // Define the table data\n",
              "        const data = [[\"2023-12-01\", 4, \"I purchased a Megatelco phone last week, and I'm impressed with its sleek design and powerful performance. The camera quality is exceptional, and the battery life is commendable. Overall, a solid 4-star experience.\"], [\"2023-12-03\", 3, \"My Megatelco phone arrived promptly, but I've noticed some issues with the software. It tends to lag at times, affecting the user experience. Customer support was helpful, but I expected better performance. 3 stars.\"], [\"2023-12-05\", 5, \"Megatelco offers top-notch phones! I'm thrilled with the features and the smooth interface. The camera takes stunning photos, and the battery lasts all day. 5 stars without a doubt!\"], [\"2023-12-08\", 4, \"I've been using Megatelco phones for a while now, and they never disappoint. The latest model I purchased is no exception. Great performance, stylish design, and excellent customer service. 4 stars from a satisfied customer.\"], [\"2023-12-10\", 2, \"Regrettably, my experience with Megatelco was not as expected. The phone had constant connectivity issues, and the support team couldn't provide a solution. Disappointed and only giving it 2 stars.\"], [\"2023-12-12\", 5, \"Megatelco's latest phone exceeded my expectations! It's packed with innovative features, and the customer service team was quick to address a minor concern I had. Solid 5-star rating!\"], [\"2023-12-15\", 3, \"I had a mixed experience with Megatelco. The phone's performance is decent, but I encountered some software glitches. Customer support was responsive but couldn't entirely resolve the issue. 3 stars.\"], [\"2023-12-18\", 4, \"Megatelco phones are reliable and offer great value. The user-friendly interface, coupled with impressive features, makes them a top choice. I'm giving it 4 stars for its overall quality.\"], [\"2023-12-20\", 1, \"My Megatelco phone started malfunctioning within a week of purchase. The touch screen became unresponsive, and customer support was unable to provide a quick solution. Unfortunately, a 1-star rating.\"], [\"2023-12-22\", 5, \"I recently upgraded to the latest Megatelco phone, and it's fantastic! The speed, camera quality, and battery life are exceptional. The sleek design is a bonus. Easy 5 stars!\"]];\n",
              "\n",
              "        // Define the dt_args\n",
              "        let dt_args = {\"layout\": {\"topStart\": null, \"topEnd\": null, \"bottomStart\": null, \"bottomEnd\": null}, \"order\": [], \"warn_on_dom\": true};\n",
              "        dt_args[\"data\"] = data;\n",
              "\n",
              "        \n",
              "        new DataTable(table, dt_args);\n",
              "    });\n",
              "</script>\n"
            ]
          },
          "metadata": {}
        },
        {
          "output_type": "stream",
          "name": "stdout",
          "text": [
            "0    I purchased a Megatelco phone last week, and I...\n",
            "Name: Review, dtype: object\n"
          ]
        }
      ],
      "source": [
        "reviews_data = {\n",
        "    'Date': ['2023-12-01', '2023-12-03', '2023-12-05', '2023-12-08', '2023-12-10', '2023-12-12', '2023-12-15', '2023-12-18', '2023-12-20', '2023-12-22'],\n",
        "    'Stars': [4, 3, 5, 4, 2, 5, 3, 4, 1, 5],\n",
        "    'Review': [\n",
        "        \"I purchased a Megatelco phone last week, and I'm impressed with its sleek design and powerful performance. The camera quality is exceptional, and the battery life is commendable. Overall, a solid 4-star experience.\",\n",
        "        \"My Megatelco phone arrived promptly, but I've noticed some issues with the software. It tends to lag at times, affecting the user experience. Customer support was helpful, but I expected better performance. 3 stars.\",\n",
        "        \"Megatelco offers top-notch phones! I'm thrilled with the features and the smooth interface. The camera takes stunning photos, and the battery lasts all day. 5 stars without a doubt!\",\n",
        "        \"I've been using Megatelco phones for a while now, and they never disappoint. The latest model I purchased is no exception. Great performance, stylish design, and excellent customer service. 4 stars from a satisfied customer.\",\n",
        "        \"Regrettably, my experience with Megatelco was not as expected. The phone had constant connectivity issues, and the support team couldn't provide a solution. Disappointed and only giving it 2 stars.\",\n",
        "        \"Megatelco's latest phone exceeded my expectations! It's packed with innovative features, and the customer service team was quick to address a minor concern I had. Solid 5-star rating!\",\n",
        "        \"I had a mixed experience with Megatelco. The phone's performance is decent, but I encountered some software glitches. Customer support was responsive but couldn't entirely resolve the issue. 3 stars.\",\n",
        "        \"Megatelco phones are reliable and offer great value. The user-friendly interface, coupled with impressive features, makes them a top choice. I'm giving it 4 stars for its overall quality.\",\n",
        "        \"My Megatelco phone started malfunctioning within a week of purchase. The touch screen became unresponsive, and customer support was unable to provide a quick solution. Unfortunately, a 1-star rating.\",\n",
        "        \"I recently upgraded to the latest Megatelco phone, and it's fantastic! The speed, camera quality, and battery life are exceptional. The sleek design is a bonus. Easy 5 stars!\"\n",
        "    ]\n",
        "}\n",
        "\n",
        "# Creating the DataFrame\n",
        "df = pd.DataFrame(reviews_data)\n",
        "show(df)\n",
        "print(df['Review'].iloc[:1])"
      ]
    },
    {
      "cell_type": "markdown",
      "metadata": {
        "id": "ppQ8aRVWceSy"
      },
      "source": [
        "##Create Prompts and Send to Model"
      ]
    },
    {
      "cell_type": "code",
      "execution_count": 6,
      "metadata": {
        "id": "pSoFFl_FN4F6",
        "colab": {
          "base_uri": "https://localhost:8080/"
        },
        "outputId": "f47376e3-6cad-4317-b74e-ee6c4a2ed1ef"
      },
      "outputs": [
        {
          "output_type": "stream",
          "name": "stdout",
          "text": [
            "I purchased a Megatelco phone last week, and I'm impressed with its sleek design and powerful performance. The camera quality is exceptional, and the battery life is commendable. Overall, a solid 4-star experience.\n",
            "[{'role': 'system', 'content': 'Summarize the sentiment and most important points in the following user review for a phone company named Megatelco.  Format the output in a table.'}, {'role': 'user', 'content': \"I purchased a Megatelco phone last week, and I'm impressed with its sleek design and powerful performance. The camera quality is exceptional, and the battery life is commendable. Overall, a solid 4-star experience.\"}]\n"
          ]
        }
      ],
      "source": [
        "review = df['Review'].values[0]\n",
        "print(review)\n",
        "messages = [{\"role\":\"system\",\"content\":\"Summarize the sentiment and most important points in the following user review for a phone company named Megatelco.  Format the output in a table.\"}]\n",
        "messages.append({\"role\":\"user\", \"content\":review})\n",
        "print(messages)"
      ]
    },
    {
      "cell_type": "code",
      "execution_count": 10,
      "metadata": {
        "id": "BE2F-S7TO9Cz"
      },
      "outputs": [],
      "source": [
        "response = client.chat.completions.create(\n",
        "    model=\"gpt-3.5-turbo\",\n",
        "    messages = messages,\n",
        "    max_tokens = 250\n",
        ")"
      ]
    },
    {
      "cell_type": "markdown",
      "metadata": {
        "id": "XSesr421ceS0"
      },
      "source": [
        "## Display Response"
      ]
    },
    {
      "cell_type": "code",
      "execution_count": 11,
      "metadata": {
        "id": "hwIQ9nHwPXwZ",
        "colab": {
          "base_uri": "https://localhost:8080/"
        },
        "outputId": "d27861ff-1110-4aa6-cda2-bed85c91f4a8"
      },
      "outputs": [
        {
          "output_type": "stream",
          "name": "stdout",
          "text": [
            "| Sentiment   | Positive   |\n",
            "|-------------|------------|\n",
            "| Design      | Sleek      |\n",
            "| Performance | Powerful   |\n",
            "| Camera      | Exceptional|\n",
            "| Battery life| Commendable|\n",
            "| Rating      | 4 stars    |\n"
          ]
        }
      ],
      "source": [
        "print(response.choices[0].message.content)"
      ]
    },
    {
      "cell_type": "markdown",
      "metadata": {
        "id": "INrP7Hd0ceS1"
      },
      "source": [
        "## Create a Loop to Submit Reviews\n",
        "\n",
        "➡️ Assignment Tasks\n",
        "- Create a FOR loop to iterate through reviews\n",
        "- Collect the responses in a single datafram"
      ]
    },
    {
      "cell_type": "code",
      "execution_count": 13,
      "metadata": {
        "id": "IBN0fF7pceS2",
        "colab": {
          "base_uri": "https://localhost:8080/"
        },
        "outputId": "df3d1002-f57c-4db2-c624-721e8326826d"
      },
      "outputs": [
        {
          "output_type": "stream",
          "name": "stdout",
          "text": [
            "                                              Review  \\\n",
            "0  I purchased a Megatelco phone last week, and I...   \n",
            "1  My Megatelco phone arrived promptly, but I've ...   \n",
            "2  Megatelco offers top-notch phones! I'm thrille...   \n",
            "3  I've been using Megatelco phones for a while n...   \n",
            "4  Regrettably, my experience with Megatelco was ...   \n",
            "5  Megatelco's latest phone exceeded my expectati...   \n",
            "6  I had a mixed experience with Megatelco. The p...   \n",
            "7  Megatelco phones are reliable and offer great ...   \n",
            "8  My Megatelco phone started malfunctioning with...   \n",
            "9  I recently upgraded to the latest Megatelco ph...   \n",
            "\n",
            "                                             Summary  \n",
            "0  | Sentiment   | Positive  |\\n|-------------|--...  \n",
            "1  | Sentiment   | Points                        ...  \n",
            "2  | Sentiment | Positive |\\n|-----------|-------...  \n",
            "3  | Sentiment   | Positive     |\\n|-------------...  \n",
            "4  | Sentiment   | Points                        ...  \n",
            "5  | Sentiment   | Positive    |\\n|-------------|...  \n",
            "6  | Sentiment  |  Points                        ...  \n",
            "7  | Sentiment | Positive |\\n| -------- | -------...  \n",
            "8  | Sentiment   | Negative     |\\n|-------------...  \n",
            "9  | Sentiment  | Positive     |\\n|--------------...  \n"
          ]
        }
      ],
      "source": [
        "response_data = []\n",
        "\n",
        "# Iterate through reviews\n",
        "for review in reviews_data['Review']:\n",
        "    # Send request to OpenAI API\n",
        "    response = client.chat.completions.create(\n",
        "        model=\"gpt-3.5-turbo\",\n",
        "        messages=[{\"role\": \"system\", \"content\": \"Summarize the sentiment and most important points in the following user review for a phone company named Megatelco.  Format the output in a table.\"},\n",
        "                  {\"role\": \"user\", \"content\": review}],\n",
        "        max_tokens=250\n",
        "    )\n",
        "    # Store response\n",
        "    response_data.append(response.choices[0].message.content)\n",
        "\n",
        "# Create a dataframe to store the responses\n",
        "df_responses = pd.DataFrame({\n",
        "    'Review': reviews_data['Review'],\n",
        "    'Summary': response_data\n",
        "})\n",
        "\n",
        "# Display the dataframe\n",
        "print(df_responses)"
      ]
    },
    {
      "cell_type": "markdown",
      "metadata": {
        "id": "ds5oTmoUceS3"
      },
      "source": [
        "## Summarize the Responses\n",
        "\n",
        "➡️ Assignment Tasks\n",
        "- Create at least two visualizations to show the most important themes and sentinment of the reviews"
      ]
    },
    {
      "cell_type": "code",
      "execution_count": 14,
      "metadata": {
        "id": "C7JVESD2ceS4",
        "colab": {
          "base_uri": "https://localhost:8080/",
          "height": 487
        },
        "outputId": "b4aea47e-640f-46ea-97a0-c10ac3bc4afc"
      },
      "outputs": [
        {
          "output_type": "display_data",
          "data": {
            "text/plain": [
              "<Figure size 800x500 with 1 Axes>"
            ],
            "image/png": "[encoded data removed]"
          },
          "metadata": {}
        }
      ],
      "source": [
        "#sentiment frequency\n",
        "from textblob import TextBlob\n",
        "import matplotlib.pyplot as plt\n",
        "import seaborn as sns\n",
        "\n",
        "# Perform sentiment analysis\n",
        "df_responses['Sentiment'] = df_responses['Summary'].apply(lambda x: TextBlob(x).sentiment.polarity)\n",
        "\n",
        "# Define a function to categorize sentiment\n",
        "def categorize_sentiment(score):\n",
        "    if score > 0:\n",
        "        return 'Positive'\n",
        "    elif score < 0:\n",
        "        return 'Negative'\n",
        "    else:\n",
        "        return 'Neutral'\n",
        "\n",
        "# Categorize sentiment\n",
        "df_responses['Sentiment_Category'] = df_responses['Sentiment'].apply(categorize_sentiment)\n",
        "\n",
        "# Plot sentiment distribution\n",
        "plt.figure(figsize=(8, 5))\n",
        "sns.countplot(x='Sentiment_Category', data=df_responses, order=['Positive', 'Neutral', 'Negative'])\n",
        "plt.title('Sentiment Distribution')\n",
        "plt.xlabel('Sentiment')\n",
        "plt.ylabel('Count')\n",
        "plt.show()\n"
      ]
    },
    {
      "cell_type": "code",
      "execution_count": 18,
      "metadata": {
        "id": "7a2wDReuceS4",
        "colab": {
          "base_uri": "https://localhost:8080/"
        },
        "outputId": "08fcd2b6-0e77-4a84-e5aa-95a5b8d93d6d"
      },
      "outputs": [
        {
          "output_type": "stream",
          "name": "stdout",
          "text": [
            "Top words for each topic:\n",
            "Topic 1:\n",
            "points sentiment customer stars megatelco\n",
            "\n",
            "Topic 2:\n",
            "life sleek exceptional battery camera\n",
            "\n",
            "Topic 3:\n",
            "negative helpful support software user\n",
            "\n",
            "Topic 4:\n",
            "negative rating phone sentiment points\n",
            "\n",
            "Topic 5:\n",
            "features battery camera interface key\n",
            "\n"
          ]
        }
      ],
      "source": [
        "#themes\n",
        "from sklearn.feature_extraction.text import CountVectorizer\n",
        "from sklearn.decomposition import LatentDirichletAllocation\n",
        "\n",
        "# Vectorize the text\n",
        "vectorizer = CountVectorizer(stop_words='english')\n",
        "X = vectorizer.fit_transform(df_responses['Summary'])\n",
        "\n",
        "# Topic modeling with LDA\n",
        "lda = LatentDirichletAllocation(n_components=5, random_state=42)\n",
        "lda.fit(X)\n",
        "\n",
        "# Function to display the top words for each topic\n",
        "def display_topics(model, feature_names, no_top_words):\n",
        "    for topic_idx, topic in enumerate(model.components_):\n",
        "        print(f\"Topic {topic_idx+1}:\")\n",
        "        print(\" \".join([feature_names[i] for i in topic.argsort()[:-no_top_words - 1:-1]]))\n",
        "        print()\n",
        "\n",
        "# Display the top words for each topic\n",
        "print(\"Top words for each topic:\")\n",
        "no_top_words = 5\n",
        "display_topics(lda, vectorizer.get_feature_names_out(), no_top_words)\n",
        "\n"
      ]
    },
    {
      "cell_type": "code",
      "source": [],
      "metadata": {
        "id": "bu3L4ylG_j4x"
      },
      "execution_count": null,
      "outputs": []
    }
  ],
  "metadata": {
    "colab": {
      "provenance": []
    },
    "kernelspec": {
      "display_name": "Python 3",
      "name": "python3"
    },
    "language_info": {
      "name": "python"
    }
  },
  "nbformat": 4,
  "nbformat_minor": 0
}